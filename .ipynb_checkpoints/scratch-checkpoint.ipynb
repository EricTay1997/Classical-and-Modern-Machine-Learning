{
 "cells": [
  {
   "cell_type": "code",
   "execution_count": 2,
   "id": "16b7ae1c-5843-44ab-8b21-d7de06e1af37",
   "metadata": {},
   "outputs": [],
   "source": [
    "import glob"
   ]
  },
  {
   "cell_type": "code",
   "execution_count": 14,
   "id": "805cd6a1-ae29-47ba-a722-1a6f8e38ac7b",
   "metadata": {},
   "outputs": [],
   "source": [
    "folders = glob.glob('/Users/erict/Desktop/Classical-and-Modern-Machine-Learning/classical/*') + glob.glob('/Users/erict/Desktop/Classical-and-Modern-Machine-Learning/modern/*')"
   ]
  },
  {
   "cell_type": "code",
   "execution_count": 20,
   "id": "a641e67f-875a-4db0-b5d8-061648c75469",
   "metadata": {},
   "outputs": [],
   "source": [
    "for folder in folders:\n",
    "    output_file = f\"{folder}/notes.md\"\n",
    "    ! cp /Users/erict/Desktop/Classical-and-Modern-Machine-Learning/notes.md {output_file}"
   ]
  },
  {
   "cell_type": "code",
   "execution_count": 22,
   "id": "8e7f77f0-7c24-4f51-b1c3-d1b1bfb4b052",
   "metadata": {},
   "outputs": [],
   "source": [
    "for folder in folders:\n",
    "    output_file = f\"{folder}/code.ipynb\"\n",
    "    ! cp /Users/erict/Desktop/Classical-and-Modern-Machine-Learning/code.ipynb {output_file}"
   ]
  },
  {
   "cell_type": "code",
   "execution_count": null,
   "id": "95e51d74-8165-41ce-8a9c-23fe5c2e45b5",
   "metadata": {},
   "outputs": [],
   "source": []
  }
 ],
 "metadata": {
  "kernelspec": {
   "display_name": "Python [conda env:base] *",
   "language": "python",
   "name": "conda-base-py"
  },
  "language_info": {
   "codemirror_mode": {
    "name": "ipython",
    "version": 3
   },
   "file_extension": ".py",
   "mimetype": "text/x-python",
   "name": "python",
   "nbconvert_exporter": "python",
   "pygments_lexer": "ipython3",
   "version": "3.12.7"
  }
 },
 "nbformat": 4,
 "nbformat_minor": 5
}
