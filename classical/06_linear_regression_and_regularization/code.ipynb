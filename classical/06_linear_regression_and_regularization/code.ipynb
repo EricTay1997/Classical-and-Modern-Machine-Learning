{
 "cells": [
  {
   "cell_type": "markdown",
   "id": "3ac74668-f8a9-4e6f-b7cc-57cef6a702f6",
   "metadata": {},
   "source": [
    "# Code Adapted From https://github.com/ageron/handson-ml3/blob/main/04_training_linear_models.ipynb"
   ]
  },
  {
   "cell_type": "code",
   "execution_count": 1,
   "id": "b1f82662-b0c4-48a7-acb3-dedb370f1228",
   "metadata": {},
   "outputs": [],
   "source": [
    "import numpy as np\n",
    "import matplotlib.pyplot as plt\n",
    "from sklearn.preprocessing import add_dummy_feature\n",
    "\n",
    "np.random.seed(42)  # to make this code example reproducible\n",
    "m = 100  # number of instances\n",
    "X = 2 * np.random.rand(m, 1)  # column vector\n",
    "y = 4 + 3 * X + np.random.randn(m, 1)  # column vector\n",
    "X_b = add_dummy_feature(X)  # add x0 = 1 to each instance"
   ]
  },
  {
   "cell_type": "code",
   "execution_count": 3,
   "id": "af488897-63a5-4edb-82fb-50c9e69ef7c2",
   "metadata": {},
   "outputs": [
    {
     "data": {
      "text/plain": [
       "array([[4.21509616],\n",
       "       [2.77011339]])"
      ]
     },
     "execution_count": 3,
     "metadata": {},
     "output_type": "execute_result"
    }
   ],
   "source": [
    "# Solve with inverse\n",
    "theta_best = np.linalg.inv(X_b.T @ X_b) @ X_b.T @ y\n",
    "theta_best"
   ]
  },
  {
   "cell_type": "code",
   "execution_count": 5,
   "id": "24bc0129-8a90-4b5b-b005-1c692dd8c64d",
   "metadata": {},
   "outputs": [
    {
     "data": {
      "text/plain": [
       "array([[4.21509616],\n",
       "       [2.77011339]])"
      ]
     },
     "execution_count": 5,
     "metadata": {},
     "output_type": "execute_result"
    }
   ],
   "source": [
    "# Solve with pseudo inverse\n",
    "np.linalg.pinv(X_b) @ y"
   ]
  },
  {
   "cell_type": "code",
   "execution_count": 7,
   "id": "728b2b8c-ed24-4af8-ae2c-0633ce0e0ad6",
   "metadata": {},
   "outputs": [
    {
     "data": {
      "text/plain": [
       "array([[4.21509616],\n",
       "       [2.77011339]])"
      ]
     },
     "execution_count": 7,
     "metadata": {},
     "output_type": "execute_result"
    }
   ],
   "source": [
    "# Full batch gradient descent\n",
    "eta = 0.1  # learning rate\n",
    "n_epochs = 1000\n",
    "m = len(X_b)  # number of instances\n",
    "\n",
    "np.random.seed(42)\n",
    "theta = np.random.randn(2, 1)  # randomly initialized model parameters\n",
    "\n",
    "for epoch in range(n_epochs):\n",
    "    gradients = 2 / m * X_b.T @ (X_b @ theta - y)\n",
    "    theta = theta - eta * gradients\n",
    "theta"
   ]
  },
  {
   "cell_type": "code",
   "execution_count": null,
   "id": "2df59d06-b22f-4603-ab54-fc7f4adc5fc4",
   "metadata": {},
   "outputs": [],
   "source": [
    "# Interesting note that newton-raphson converges in a single step as expected (since the loss function is quadratic in B and the hessian is positive definite)"
   ]
  },
  {
   "cell_type": "code",
   "execution_count": 11,
   "id": "8de4f868-7a79-40c1-9833-298f77b6a18a",
   "metadata": {
    "scrolled": true
   },
   "outputs": [
    {
     "data": {
      "text/plain": [
       "array([[7.49080238e-01, 5.61121203e-01],\n",
       "       [1.90142861e+00, 3.61543077e+00],\n",
       "       [1.46398788e+00, 2.14326052e+00],\n",
       "       [1.19731697e+00, 1.43356792e+00],\n",
       "       [3.12037281e-01, 9.73672647e-02],\n",
       "       [3.11989041e-01, 9.73371615e-02],\n",
       "       [1.16167224e-01, 1.34948240e-02],\n",
       "       [1.73235229e+00, 3.00104446e+00],\n",
       "       [1.20223002e+00, 1.44535703e+00],\n",
       "       [1.41614516e+00, 2.00546710e+00],\n",
       "       [4.11689886e-02, 1.69488562e-03],\n",
       "       [1.93981970e+00, 3.76290049e+00],\n",
       "       [1.66488528e+00, 2.77184300e+00],\n",
       "       [4.24678221e-01, 1.80351592e-01],\n",
       "       [3.63649934e-01, 1.32241275e-01],\n",
       "       [3.66809020e-01, 1.34548857e-01],\n",
       "       [6.08484486e-01, 3.70253370e-01],\n",
       "       [1.04951286e+00, 1.10147725e+00],\n",
       "       [8.63890037e-01, 7.46305997e-01],\n",
       "       [5.82458280e-01, 3.39257648e-01],\n",
       "       [1.22370579e+00, 1.49745586e+00],\n",
       "       [2.78987721e-01, 7.78341486e-02],\n",
       "       [5.84289297e-01, 3.41393983e-01],\n",
       "       [7.32723687e-01, 5.36884001e-01],\n",
       "       [9.12139968e-01, 8.31999322e-01],\n",
       "       [1.57035192e+00, 2.46600516e+00],\n",
       "       [3.99347564e-01, 1.59478477e-01],\n",
       "       [1.02846888e+00, 1.05774823e+00],\n",
       "       [1.18482914e+00, 1.40382009e+00],\n",
       "       [9.29008254e-02, 8.63056337e-03],\n",
       "       [1.21508970e+00, 1.47644299e+00],\n",
       "       [3.41048247e-01, 1.16313907e-01],\n",
       "       [1.30103186e-01, 1.69268390e-02],\n",
       "       [1.89777107e+00, 3.60153505e+00],\n",
       "       [1.93126407e+00, 3.72978089e+00],\n",
       "       [1.61679470e+00, 2.61402509e+00],\n",
       "       [6.09227538e-01, 3.71158193e-01],\n",
       "       [1.95344228e-01, 3.81593674e-02],\n",
       "       [1.36846605e+00, 1.87269934e+00],\n",
       "       [8.80304987e-01, 7.74936871e-01],\n",
       "       [2.44076470e-01, 5.95733231e-02],\n",
       "       [9.90353820e-01, 9.80800689e-01],\n",
       "       [6.87770422e-02, 4.73028154e-03],\n",
       "       [1.81864080e+00, 3.30745437e+00],\n",
       "       [5.17559963e-01, 2.67868316e-01],\n",
       "       [1.32504457e+00, 1.75574311e+00],\n",
       "       [6.23422152e-01, 3.88655180e-01],\n",
       "       [1.04013604e+00, 1.08188299e+00],\n",
       "       [1.09342056e+00, 1.19556852e+00],\n",
       "       [3.69708911e-01, 1.36684679e-01],\n",
       "       [1.93916926e+00, 3.76037740e+00],\n",
       "       [1.55026565e+00, 2.40332358e+00],\n",
       "       [1.87899788e+00, 3.53063304e+00],\n",
       "       [1.78965470e+00, 3.20286395e+00],\n",
       "       [1.19579996e+00, 1.42993754e+00],\n",
       "       [1.84374847e+00, 3.39940842e+00],\n",
       "       [1.76985004e-01, 3.13236917e-02],\n",
       "       [3.91965725e-01, 1.53637129e-01],\n",
       "       [9.04545778e-02, 8.18203065e-03],\n",
       "       [6.50660662e-01, 4.23359296e-01],\n",
       "       [7.77354579e-01, 6.04280142e-01],\n",
       "       [5.42698064e-01, 2.94521188e-01],\n",
       "       [1.65747502e+00, 2.74722344e+00],\n",
       "       [7.13506653e-01, 5.09091744e-01],\n",
       "       [5.61869019e-01, 3.15696795e-01],\n",
       "       [1.08539217e+00, 1.17807615e+00],\n",
       "       [2.81848450e-01, 7.94385487e-02],\n",
       "       [1.60439396e+00, 2.57407998e+00],\n",
       "       [1.49101287e-01, 2.22311939e-02],\n",
       "       [1.97377387e+00, 3.89578330e+00],\n",
       "       [1.54448954e+00, 2.38544793e+00],\n",
       "       [3.97431363e-01, 1.57951688e-01],\n",
       "       [1.10442342e-02, 1.21975110e-04],\n",
       "       [1.63092286e+00, 2.65990937e+00],\n",
       "       [1.41371469e+00, 1.99858922e+00],\n",
       "       [1.45801434e+00, 2.12580580e+00],\n",
       "       [1.54254069e+00, 2.37943179e+00],\n",
       "       [1.48089303e-01, 2.19304418e-02],\n",
       "       [7.16931457e-01, 5.13990714e-01],\n",
       "       [2.31738119e-01, 5.37025558e-02],\n",
       "       [1.72620685e+00, 2.97979010e+00],\n",
       "       [1.24659625e+00, 1.55400222e+00],\n",
       "       [6.61796050e-01, 4.37974011e-01],\n",
       "       [1.27116701e-01, 1.61586556e-02],\n",
       "       [6.21964643e-01, 3.86840018e-01],\n",
       "       [6.50366644e-01, 4.22976772e-01],\n",
       "       [1.45921236e+00, 2.12930070e+00],\n",
       "       [1.27511494e+00, 1.62591812e+00],\n",
       "       [1.77442549e+00, 3.14858580e+00],\n",
       "       [9.44429850e-01, 8.91947742e-01],\n",
       "       [2.39188492e-01, 5.72111346e-02],\n",
       "       [1.42648957e+00, 2.03487251e+00],\n",
       "       [1.52157010e+00, 2.31517556e+00],\n",
       "       [1.12255440e+00, 1.26012837e+00],\n",
       "       [1.54193436e+00, 2.37756157e+00],\n",
       "       [9.87591193e-01, 9.75336364e-01],\n",
       "       [1.04546566e+00, 1.09299844e+00],\n",
       "       [8.55082037e-01, 7.31165290e-01],\n",
       "       [5.08382535e-02, 2.58452802e-03],\n",
       "       [2.15782854e-01, 4.65622401e-02]])"
      ]
     },
     "execution_count": 11,
     "metadata": {},
     "output_type": "execute_result"
    }
   ],
   "source": [
    "# Polynomial regression, this just creates more features easily\n",
    "from sklearn.preprocessing import PolynomialFeatures\n",
    "\n",
    "poly_features = PolynomialFeatures(degree=2, include_bias=False)\n",
    "X_poly = poly_features.fit_transform(X)\n",
    "X_poly"
   ]
  },
  {
   "cell_type": "code",
   "execution_count": 51,
   "id": "b1d1509d-8310-4aea-a4dd-5d874ccf29e4",
   "metadata": {},
   "outputs": [],
   "source": [
    "# Regularizations \n",
    "\n",
    "from sklearn.linear_model import LinearRegression\n",
    "from sklearn.linear_model import Ridge\n",
    "from sklearn.linear_model import Lasso\n",
    "\n",
    "lin_reg = LinearRegression()\n",
    "lin_reg.fit(X, y)\n",
    "X_new = np.array([[0], [2]])\n",
    "pred_lin = lin_reg.predict(X_new)\n",
    "\n",
    "ridge_reg = Ridge(alpha=100, solver=\"cholesky\")\n",
    "ridge_reg.fit(X, y)\n",
    "pred_ridge = ridge_reg.predict(X_new)\n",
    "\n",
    "lasso_reg = Lasso(alpha=100/(2*len(X)))\n",
    "lasso_reg.fit(X, y)\n",
    "pred_lasso = lasso_reg.predict(X_new)"
   ]
  },
  {
   "cell_type": "code",
   "execution_count": 57,
   "id": "928fc67c-e3bb-40bb-8265-3d08603f04c6",
   "metadata": {},
   "outputs": [
    {
     "data": {
      "image/png": "[encoded data removed]",
      "text/plain": [
       "<Figure size 600x400 with 1 Axes>"
      ]
     },
     "metadata": {},
     "output_type": "display_data"
    }
   ],
   "source": [
    "plt.figure(figsize=(6, 4))  # extra code – not needed, just formatting\n",
    "plt.plot(X_new, pred_lin, \"r-\", label=\"Linear\")\n",
    "plt.plot(X_new, pred_ridge, \"g-\", label=\"Ridge\")\n",
    "plt.plot(X_new, pred_lasso, \"y-\", label=\"Lasso\")\n",
    "plt.plot(X, y, \"b.\")\n",
    "\n",
    "# extra code – beautifies and saves Figure 4–2\n",
    "plt.xlabel(\"$x_1$\")\n",
    "plt.ylabel(\"$y$\", rotation=0)\n",
    "plt.axis([0, 2, 0, 15])\n",
    "plt.grid()\n",
    "plt.legend(loc=\"upper left\")\n",
    "\n",
    "plt.show()"
   ]
  }
 ],
 "metadata": {
  "kernelspec": {
   "display_name": "Python [conda env:base] *",
   "language": "python",
   "name": "conda-base-py"
  },
  "language_info": {
   "codemirror_mode": {
    "name": "ipython",
    "version": 3
   },
   "file_extension": ".py",
   "mimetype": "text/x-python",
   "name": "python",
   "nbconvert_exporter": "python",
   "pygments_lexer": "ipython3",
   "version": "3.12.7"
  }
 },
 "nbformat": 4,
 "nbformat_minor": 5
}
