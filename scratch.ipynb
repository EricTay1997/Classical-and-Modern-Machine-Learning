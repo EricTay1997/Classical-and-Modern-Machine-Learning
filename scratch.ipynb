{
 "cells": [
  {
   "cell_type": "code",
   "execution_count": 2,
   "id": "16b7ae1c-5843-44ab-8b21-d7de06e1af37",
   "metadata": {},
   "outputs": [],
   "source": [
    "import glob"
   ]
  },
  {
   "cell_type": "code",
   "execution_count": 14,
   "id": "805cd6a1-ae29-47ba-a722-1a6f8e38ac7b",
   "metadata": {},
   "outputs": [],
   "source": [
    "folders = glob.glob('/Users/erict/Desktop/Classical-and-Modern-Machine-Learning/classical/*') + glob.glob('/Users/erict/Desktop/Classical-and-Modern-Machine-Learning/modern/*')"
   ]
  },
  {
   "cell_type": "code",
   "execution_count": 20,
   "id": "a641e67f-875a-4db0-b5d8-061648c75469",
   "metadata": {},
   "outputs": [],
   "source": [
    "for folder in folders:\n",
    "    output_file = f\"{folder}/notes.md\"\n",
    "    ! cp /Users/erict/Desktop/Classical-and-Modern-Machine-Learning/notes.md {output_file}"
   ]
  },
  {
   "cell_type": "code",
   "execution_count": 22,
   "id": "8e7f77f0-7c24-4f51-b1c3-d1b1bfb4b052",
   "metadata": {},
   "outputs": [],
   "source": [
    "for folder in folders:\n",
    "    output_file = f\"{folder}/code.ipynb\"\n",
    "    ! cp /Users/erict/Desktop/Classical-and-Modern-Machine-Learning/code.ipynb {output_file}"
   ]
  },
  {
   "cell_type": "code",
   "execution_count": 1,
   "id": "96f2e556-9dc0-4a5b-a437-d9c88bfd8b11",
   "metadata": {},
   "outputs": [
    {
     "data": {
      "text/plain": [
       "'10'"
      ]
     },
     "execution_count": 1,
     "metadata": {},
     "output_type": "execute_result"
    }
   ],
   "source": [
    "format(2, 'b')"
   ]
  },
  {
   "cell_type": "code",
   "execution_count": 3,
   "id": "5de984cb-3f06-4dcd-9c9c-61a24fbfe680",
   "metadata": {},
   "outputs": [
    {
     "data": {
      "text/plain": [
       "'111'"
      ]
     },
     "execution_count": 3,
     "metadata": {},
     "output_type": "execute_result"
    }
   ],
   "source": [
    "format(7, 'b')"
   ]
  },
  {
   "cell_type": "code",
   "execution_count": 5,
   "id": "d9733a89-9b07-4dd5-b3bc-5937ee764b03",
   "metadata": {},
   "outputs": [
    {
     "data": {
      "text/plain": [
       "'10'"
      ]
     },
     "execution_count": 5,
     "metadata": {},
     "output_type": "execute_result"
    }
   ],
   "source": [
    "format(2 & 7, 'b')"
   ]
  },
  {
   "cell_type": "code",
   "execution_count": 7,
   "id": "e62ff81e-f423-4cf4-8256-605b177079d3",
   "metadata": {},
   "outputs": [
    {
     "data": {
      "text/plain": [
       "'101'"
      ]
     },
     "execution_count": 7,
     "metadata": {},
     "output_type": "execute_result"
    }
   ],
   "source": [
    "format(7-2, 'b')"
   ]
  },
  {
   "cell_type": "code",
   "execution_count": 9,
   "id": "7106ac5a-733c-41f1-9312-20b3d0f1291b",
   "metadata": {},
   "outputs": [
    {
     "data": {
      "text/plain": [
       "True"
      ]
     },
     "execution_count": 9,
     "metadata": {},
     "output_type": "execute_result"
    }
   ],
   "source": [
    "float('inf') == float('inf')"
   ]
  },
  {
   "cell_type": "code",
   "execution_count": 15,
   "id": "3b1f5492-3f77-42a1-98b1-551ab3806666",
   "metadata": {},
   "outputs": [
    {
     "data": {
      "text/plain": [
       "1.822012512399076"
      ]
     },
     "execution_count": 15,
     "metadata": {},
     "output_type": "execute_result"
    }
   ],
   "source": [
    "-np.log(0.7)-np.log(0.7)-np.log(0.33)"
   ]
  },
  {
   "cell_type": "code",
   "execution_count": 11,
   "id": "9bdf34da-7a5b-4432-989f-cbac426e2f2c",
   "metadata": {},
   "outputs": [
    {
     "ename": "NameError",
     "evalue": "name 'np' is not defined",
     "output_type": "error",
     "traceback": [
      "\u001b[0;31m---------------------------------------------------------------------------\u001b[0m",
      "\u001b[0;31mNameError\u001b[0m                                 Traceback (most recent call last)",
      "Cell \u001b[0;32mIn[11], line 1\u001b[0m\n\u001b[0;32m----> 1\u001b[0m np\u001b[38;5;241m.\u001b[39mlog\u001b[38;5;241m*\u001b[39m(\u001b[38;5;241m0.7\u001b[39m)\n",
      "\u001b[0;31mNameError\u001b[0m: name 'np' is not defined"
     ]
    }
   ],
   "source": [
    "np.log*(0.7)"
   ]
  },
  {
   "cell_type": "code",
   "execution_count": null,
   "id": "65d4ea9f-9415-4e18-b0d8-484806d31e03",
   "metadata": {},
   "outputs": [],
   "source": []
  }
 ],
 "metadata": {
  "kernelspec": {
   "display_name": "Python [conda env:base] *",
   "language": "python",
   "name": "conda-base-py"
  },
  "language_info": {
   "codemirror_mode": {
    "name": "ipython",
    "version": 3
   },
   "file_extension": ".py",
   "mimetype": "text/x-python",
   "name": "python",
   "nbconvert_exporter": "python",
   "pygments_lexer": "ipython3",
   "version": "3.12.7"
  }
 },
 "nbformat": 4,
 "nbformat_minor": 5
}
